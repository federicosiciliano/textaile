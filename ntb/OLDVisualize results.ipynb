{
  "cells": [
    {
      "cell_type": "markdown",
      "metadata": {},
      "source": [
        "# Preparation stuff"
      ]
    },
    {
      "cell_type": "markdown",
      "metadata": {},
      "source": [
        "## Connect to Drive"
      ]
    },
    {
      "cell_type": "code",
      "execution_count": null,
      "metadata": {},
      "outputs": [],
      "source": [
        "connect_to_drive = False"
      ]
    },
    {
      "cell_type": "code",
      "execution_count": null,
      "metadata": {},
      "outputs": [
        {
          "name": "stdout",
          "output_type": "stream",
          "text": [
            "Mounted at /content/gdrive\n"
          ]
        }
      ],
      "source": [
        "#Run command and authorize by popup --> other window\n",
        "if connect_to_drive:\n",
        "    from google.colab import drive\n",
        "    drive.mount('/content/gdrive', force_remount=True)"
      ]
    },
    {
      "cell_type": "markdown",
      "metadata": {},
      "source": [
        "## Install packages"
      ]
    },
    {
      "cell_type": "code",
      "execution_count": null,
      "metadata": {},
      "outputs": [],
      "source": [
        "if connect_to_drive:\n",
        "    #Install FS code\n",
        "    !pip install git+https://github.com/siciliano-diag/data_utils.git --force-reinstall\n",
        "    !pip install git+https://github.com/siciliano-diag/exp_utils.git --force-reinstall\n",
        "    !pip install git+https://github.com/siciliano-diag/torch_utils.git --force-reinstall"
      ]
    },
    {
      "cell_type": "markdown",
      "metadata": {},
      "source": [
        "## IMPORTS"
      ]
    },
    {
      "cell_type": "code",
      "execution_count": null,
      "metadata": {},
      "outputs": [],
      "source": [
        "#Put all imports here\n",
        "import os\n",
        "import sys\n",
        "import matplotlib.pyplot as plt\n",
        "\n",
        "# useful ready-to-use imports\n",
        "# import torch\n",
        "# import numpy as np\n",
        "# import pandas as pd"
      ]
    },
    {
      "cell_type": "markdown",
      "metadata": {},
      "source": [
        "## Define paths"
      ]
    },
    {
      "cell_type": "code",
      "execution_count": null,
      "metadata": {},
      "outputs": [],
      "source": [
        "#every path should start from the project folder:\n",
        "project_folder = \"../\"\n",
        "if connect_to_drive:\n",
        "    project_folder = \"/content/gdrive/Shareddrives/<SharedDriveName>\" #Name of Shared Drive folder\n",
        "    #project_folder = \"/content/gdrive/MyDrive/<MyDriveName>\" #Name of MyDrive folder\n",
        "\n",
        "#Config folder should contain hyperparameters configurations\n",
        "cfg_folder = os.path.join(project_folder,\"cfg\")\n",
        "\n",
        "#Data folder should contain raw and preprocessed data\n",
        "data_folder = os.path.join(project_folder,\"data\")\n",
        "raw_data_folder = os.path.join(data_folder,\"raw\")\n",
        "processed_data_folder = os.path.join(data_folder,\"processed\")\n",
        "\n",
        "#Source folder should contain all the (essential) source code\n",
        "source_folder = os.path.join(project_folder,\"src\")\n",
        "#Code can be tried in notebooks, then moved into the src folder to be imported in different notebooks\n",
        "\n",
        "#The out folder should contain all outputs: models, results, plots, etc.\n",
        "out_folder = os.path.join(project_folder,\"out\")\n",
        "exp_folder = os.path.join(out_folder,\"exp\")\n",
        "img_folder = os.path.join(out_folder,\"img\")\n",
        "log_folder = os.path.join(out_folder,\"log\")\n",
        "models_folder = os.path.join(out_folder,\"models\")\n",
        "results_folder = os.path.join(out_folder,\"results\")"
      ]
    },
    {
      "cell_type": "markdown",
      "metadata": {},
      "source": [
        "## Import own code"
      ]
    },
    {
      "cell_type": "code",
      "execution_count": null,
      "metadata": {},
      "outputs": [
        {
          "name": "stdout",
          "output_type": "stream",
          "text": [
            "['/content/gdrive/Shareddrives/Generative_math/', '/content/gdrive/Shareddrives/Generative_math/', '/content/gdrive/Shareddrives/Generative_math/src', '/content/gdrive/Shareddrives/Generative_math/src', '/content', '/env/python', '/usr/lib/python37.zip', '/usr/lib/python3.7', '/usr/lib/python3.7/lib-dynload', '', '/usr/local/lib/python3.7/dist-packages', '/usr/lib/python3/dist-packages', '/usr/local/lib/python3.7/dist-packages/IPython/extensions', '/root/.ipython']\n"
          ]
        }
      ],
      "source": [
        "#To import from src:\n",
        "\n",
        "#attach the source folder to the start of sys.path\n",
        "sys.path.insert(0, project_folder)\n",
        "print(sys.path) # view the path and verify\n",
        "\n",
        "#import from src directory\n",
        "#from src import utils\n",
        "\n",
        "os.chdir(source_folder)\n",
        "\n",
        "import data_utils, exp_utils, torch_utils"
      ]
    },
    {
      "cell_type": "markdown",
      "metadata": {},
      "source": [
        "# MAIN"
      ]
    },
    {
      "cell_type": "markdown",
      "metadata": {},
      "source": [
        "## Help functions"
      ]
    },
    {
      "cell_type": "code",
      "execution_count": null,
      "metadata": {},
      "outputs": [],
      "source": [
        "def flatten_dict(d, parent_key='', sep='.'):\n",
        "    items = []\n",
        "    for k, v in d.items():\n",
        "        new_key = parent_key + sep + k if parent_key else k\n",
        "        if isinstance(v, dict):\n",
        "            items.extend(flatten_dict(v, new_key, sep=sep).items())\n",
        "        else:\n",
        "            items.append((new_key, v))\n",
        "    return dict(items)"
      ]
    },
    {
      "cell_type": "code",
      "execution_count": null,
      "metadata": {},
      "outputs": [],
      "source": [
        "def totuple(a):\n",
        "    try:\n",
        "        return tuple(totuple(i) for i in a)\n",
        "    except TypeError:\n",
        "        return a"
      ]
    },
    {
      "cell_type": "markdown",
      "id": "fb92b760",
      "metadata": {},
      "source": [
        "# Load data"
      ]
    },
    {
      "cell_type": "code",
      "execution_count": null,
      "metadata": {},
      "outputs": [],
      "source": [
        "# Set parameters\n",
        "exp_names = [\"estimation\"] #Experiments names to load\n",
        "flatten_cfg = True"
      ]
    },
    {
      "cell_type": "code",
      "execution_count": null,
      "metadata": {},
      "outputs": [],
      "source": [
        "# Load experiments configurations\n",
        "experiments = {}\n",
        "for exp_name in exp_names:\n",
        "    experiments[exp_name] = exp_utils.exp.get_experiments(name = exp_name, project_folder = project_folder)\n",
        "    \n",
        "    if flatten_cfg:\n",
        "        for exp_id, exp_cfg in experiments[exp_name].items():\n",
        "            experiments[exp_name][exp_id] = flatten_dict(exp_cfg)"
      ]
    },
    {
      "cell_type": "code",
      "execution_count": null,
      "metadata": {},
      "outputs": [],
      "source": [
        "# Load experiments logs\n",
        "experiments_logs = {}\n",
        "for exp_name in exp_names:\n",
        "    for exp_id in experiments[exp_name].keys():\n",
        "        experiments_logs[exp_name] = torch_utils.process.load_logs(name = exp_name, exp_id = exp_id, project_folder = project_folder)"
      ]
    },
    {
      "cell_type": "markdown",
      "metadata": {},
      "source": [
        "# Compute results"
      ]
    },
    {
      "cell_type": "code",
      "execution_count": 5,
      "metadata": {},
      "outputs": [],
      "source": [
        "# Compute statistics\n"
      ]
    },
    {
      "cell_type": "markdown",
      "metadata": {},
      "source": [
        "# Plot results"
      ]
    },
    {
      "cell_type": "code",
      "execution_count": 6,
      "metadata": {},
      "outputs": [],
      "source": [
        "# Plot results"
      ]
    },
    {
      "cell_type": "code",
      "execution_count": 7,
      "id": "24c6052c",
      "metadata": {},
      "outputs": [],
      "source": [
        "# Plot metrics\n",
        "metrics_names = [\"loss\", \"accuracy\"]\n",
        "split_names = [\"train\", \"val\"]\n",
        "\n",
        "for exp_name in exp_names:\n",
        "    for exp_id in experiments[exp_name].keys():\n",
        "        for metric_name in metrics_names:\n",
        "            for split_name in split_names:\n",
        "                plt.plot(experiments_logs[exp_name][exp_id][metric_name][split_name], label = exp_name + \" \" + exp_id + \" \" + metric_name + \" \" + split_name)\n",
        "        plt.legend()\n",
        "        plt.show()"
      ]
    },
    {
      "cell_type": "code",
      "execution_count": 9,
      "metadata": {},
      "outputs": [],
      "source": []
    },
    {
      "cell_type": "code",
      "execution_count": null,
      "metadata": {
        "id": "xgezoitO8G5o"
      },
      "outputs": [],
      "source": []
    }
  ],
  "metadata": {
    "colab": {
      "collapsed_sections": [
        "6ZT_14LWFOLf",
        "LZY484zyPzj2",
        "xaSnI_kGCJ8u",
        "D3QQp9Lp-9oe",
        "nVypXc3O-_f0"
      ],
      "provenance": []
    },
    "kernelspec": {
      "display_name": "Python 3",
      "language": "python",
      "name": "python3"
    },
    "language_info": {
      "codemirror_mode": {
        "name": "ipython",
        "version": 3
      },
      "file_extension": ".py",
      "mimetype": "text/x-python",
      "name": "python",
      "nbconvert_exporter": "python",
      "pygments_lexer": "ipython3",
      "version": "3.8.9"
    },
    "vscode": {
      "interpreter": {
        "hash": "31f2aee4e71d21fbe5cf8b01ff0e069b9275f58929596ceb00d14d90e3e16cd6"
      }
    }
  },
  "nbformat": 4,
  "nbformat_minor": 0
}
