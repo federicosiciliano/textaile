{
 "cells": [
  {
   "cell_type": "code",
   "execution_count": null,
   "metadata": {},
   "outputs": [],
   "source": [
    "import numpy as np\n",
    "import os\n",
    "import shutil\n"
   ]
  },
  {
   "cell_type": "code",
   "execution_count": null,
   "metadata": {},
   "outputs": [],
   "source": [
    "name = \"VA\"\n",
    "lower_name = name.lower()\n",
    "\n",
    "app = np.genfromtxt(f\"../data/processed/color_palette_{lower_name}_inner.csv\", delimiter=',',dtype=str)\n",
    "a = set(app[1:,0])\n",
    "b = set(os.listdir(f\"../data/processed/{name}_textiles_padded_inner/\"))\n",
    "\n",
    "app = a.union(b).difference(a)\n",
    "app2 = a.union(b).difference(b)\n",
    "print(len(app))\n",
    "print(len(app2))\n",
    "\n",
    "\n",
    "# Move image in app into VA_inner_surplus\n",
    "for i in app:\n",
    "    shutil.move(f\"../data/processed/{name}_textiles_padded_inner/\"+i,f\"../data/processed/{name}_inner_surplus/\"+i)"
   ]
  }
 ],
 "metadata": {
  "language_info": {
   "name": "python"
  }
 },
 "nbformat": 4,
 "nbformat_minor": 2
}
